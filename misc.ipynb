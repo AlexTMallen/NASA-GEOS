{
 "cells": [
  {
   "cell_type": "code",
   "execution_count": 1,
   "metadata": {},
   "outputs": [],
   "source": [
    "import numpy as np"
   ]
  },
  {
   "cell_type": "code",
   "execution_count": 3,
   "metadata": {},
   "outputs": [],
   "source": [
    "import time\n",
    "import pandas as pd\n",
    "import datetime as dt\n",
    "def read_obs_csv(fname):\n",
    "    obs = pd.read_csv(fname, parse_dates=['ISO8601',], date_parser=lambda x: dt.datetime.strptime(x, '%Y-%m-%dT%H:%M:%SZ')).sort_values(by=['ISO8601'])\n",
    "    obs[\"t\"] = [time.mktime(obs.ISO8601.iloc[i].timetuple()) for i in range(len(obs))]\n",
    "    t_min = obs.t.min()\n",
    "    obs.t -= t_min\n",
    "    obs_no2 = obs.loc[obs.obstype=='no2']\n",
    "    return obs_no2\n",
    " "
   ]
  },
  {
   "cell_type": "code",
   "execution_count": 69,
   "metadata": {},
   "outputs": [
    {
     "name": "stdout",
     "output_type": "stream",
     "text": [
      "stations/obs_EEA_PL_PL0317A.csv\n",
      "3600.0 0.9903128533735394\n",
      "stations/obs_Station0004436.csv\n",
      "3600.0 0.9261606219945171\n",
      "stations/obs_Station0003167.csv\n",
      "stations/obs_EEA_SK_SK0407A.csv\n",
      "3600.0 0.9673823902184447\n",
      "stations/obs_Station0005477.csv\n",
      "stations/obs_EEA_DE_DE_DENW329.csv\n",
      "3600.0 0.9640436530729466\n",
      "stations/obs_Station0005449.csv\n",
      "3600.0 0.9807046532700816\n",
      "stations/obs_Station0003213.csv\n",
      "3600.0 0.9765357429133571\n",
      "stations/obs_Station0000478.csv\n",
      "3600.0 0.9410925281123351\n",
      "stations/obs_Station0000468.csv\n",
      "3600.0 0.9615342822992502\n",
      "stations/obs_EEA_SE_SE0104A.csv\n",
      "3600.0 0.9915848527349228\n",
      "stations/obs_Station0002646.csv\n",
      "3600.0 0.9645927903871829\n",
      "stations/obs_EEA_FR_FR08017.csv\n",
      "stations/obs_Station0000899.csv\n",
      "3600.0 0.9558823529411765\n",
      "stations/obs_Station0000734.csv\n",
      "3600.0 0.9619547570083342\n",
      "stations/obs_JPN_Tokyo_13117520.csv\n",
      "3600.0 0.9854713313896988\n",
      "stations/obs_EEA_IE_IE.IE001DP.csv\n",
      "stations/obs_EEA_PL_PL0560A.csv\n",
      "3600.0 0.9893350810295519\n",
      "stations/obs_Station0004330.csv\n",
      "3600.0 0.9913544668587896\n",
      "stations/obs_Station0004683.csv\n",
      "3600.0 0.9825988034043988\n",
      "stations/obs_Station0001880.csv\n",
      "3600.0 0.9649061032863849\n",
      "stations/obs_Station0000036.csv\n",
      "stations/obs_Station0002146.csv\n",
      "3600.0 0.9578437739859479\n",
      "stations/obs_EEA_IS_IS0053A.csv\n",
      "3600.0 0.9990181923187987\n",
      "stations/obs_Station0002787.csv\n"
     ]
    },
    {
     "ename": "KeyboardInterrupt",
     "evalue": "",
     "output_type": "error",
     "traceback": [
      "\u001b[0;31m---------------------------------------------------------------------------\u001b[0m",
      "\u001b[0;31mTypeError\u001b[0m                                 Traceback (most recent call last)",
      "File \u001b[0;32m~/Documents/2021fall/NASA-GEOS/venv/lib/python3.10/site-packages/pandas/io/parsers/base_parser.py:1086\u001b[0m, in \u001b[0;36m_make_date_converter.<locals>.converter\u001b[0;34m(*date_cols)\u001b[0m\n\u001b[1;32m   <a href='file:///Users/alexmallen/Documents/2021fall/NASA-GEOS/venv/lib/python3.10/site-packages/pandas/io/parsers/base_parser.py?line=1083'>1084</a>\u001b[0m \u001b[39mtry\u001b[39;00m:\n\u001b[1;32m   <a href='file:///Users/alexmallen/Documents/2021fall/NASA-GEOS/venv/lib/python3.10/site-packages/pandas/io/parsers/base_parser.py?line=1084'>1085</a>\u001b[0m     result \u001b[39m=\u001b[39m tools\u001b[39m.\u001b[39mto_datetime(\n\u001b[0;32m-> <a href='file:///Users/alexmallen/Documents/2021fall/NASA-GEOS/venv/lib/python3.10/site-packages/pandas/io/parsers/base_parser.py?line=1085'>1086</a>\u001b[0m         date_parser(\u001b[39m*\u001b[39;49mdate_cols), errors\u001b[39m=\u001b[39m\u001b[39m\"\u001b[39m\u001b[39mignore\u001b[39m\u001b[39m\"\u001b[39m, cache\u001b[39m=\u001b[39mcache_dates\n\u001b[1;32m   <a href='file:///Users/alexmallen/Documents/2021fall/NASA-GEOS/venv/lib/python3.10/site-packages/pandas/io/parsers/base_parser.py?line=1086'>1087</a>\u001b[0m     )\n\u001b[1;32m   <a href='file:///Users/alexmallen/Documents/2021fall/NASA-GEOS/venv/lib/python3.10/site-packages/pandas/io/parsers/base_parser.py?line=1087'>1088</a>\u001b[0m     \u001b[39mif\u001b[39;00m \u001b[39misinstance\u001b[39m(result, datetime\u001b[39m.\u001b[39mdatetime):\n",
      "\u001b[1;32m/Users/alexmallen/Documents/2021fall/NASA-GEOS/misc.ipynb Cell 2'\u001b[0m in \u001b[0;36mread_obs_csv.<locals>.<lambda>\u001b[0;34m(x)\u001b[0m\n\u001b[1;32m      <a href='vscode-notebook-cell:/Users/alexmallen/Documents/2021fall/NASA-GEOS/misc.ipynb#ch0000002?line=3'>4</a>\u001b[0m \u001b[39mdef\u001b[39;00m \u001b[39mread_obs_csv\u001b[39m(fname):\n\u001b[0;32m----> <a href='vscode-notebook-cell:/Users/alexmallen/Documents/2021fall/NASA-GEOS/misc.ipynb#ch0000002?line=4'>5</a>\u001b[0m     obs \u001b[39m=\u001b[39m pd\u001b[39m.\u001b[39mread_csv(fname, parse_dates\u001b[39m=\u001b[39m[\u001b[39m'\u001b[39m\u001b[39mISO8601\u001b[39m\u001b[39m'\u001b[39m,], date_parser\u001b[39m=\u001b[39m\u001b[39mlambda\u001b[39;00m x: dt\u001b[39m.\u001b[39;49mdatetime\u001b[39m.\u001b[39;49mstrptime(x, \u001b[39m'\u001b[39;49m\u001b[39m%\u001b[39;49m\u001b[39mY-\u001b[39;49m\u001b[39m%\u001b[39;49m\u001b[39mm-\u001b[39;49m\u001b[39m%d\u001b[39;49;00m\u001b[39mT\u001b[39;49m\u001b[39m%\u001b[39;49m\u001b[39mH:\u001b[39;49m\u001b[39m%\u001b[39;49m\u001b[39mM:\u001b[39;49m\u001b[39m%\u001b[39;49m\u001b[39mSZ\u001b[39;49m\u001b[39m'\u001b[39;49m))\u001b[39m.\u001b[39msort_values(by\u001b[39m=\u001b[39m[\u001b[39m'\u001b[39m\u001b[39mISO8601\u001b[39m\u001b[39m'\u001b[39m])\n\u001b[1;32m      <a href='vscode-notebook-cell:/Users/alexmallen/Documents/2021fall/NASA-GEOS/misc.ipynb#ch0000002?line=5'>6</a>\u001b[0m     obs[\u001b[39m\"\u001b[39m\u001b[39mt\u001b[39m\u001b[39m\"\u001b[39m] \u001b[39m=\u001b[39m [time\u001b[39m.\u001b[39mmktime(obs\u001b[39m.\u001b[39mISO8601\u001b[39m.\u001b[39miloc[i]\u001b[39m.\u001b[39mtimetuple()) \u001b[39mfor\u001b[39;00m i \u001b[39min\u001b[39;00m \u001b[39mrange\u001b[39m(\u001b[39mlen\u001b[39m(obs))]\n",
      "\u001b[0;31mTypeError\u001b[0m: strptime() argument 1 must be str, not numpy.ndarray",
      "\nDuring handling of the above exception, another exception occurred:\n",
      "\u001b[0;31mKeyboardInterrupt\u001b[0m                         Traceback (most recent call last)",
      "\u001b[1;32m/Users/alexmallen/Documents/2021fall/NASA-GEOS/misc.ipynb Cell 3'\u001b[0m in \u001b[0;36m<cell line: 4>\u001b[0;34m()\u001b[0m\n\u001b[1;32m      <a href='vscode-notebook-cell:/Users/alexmallen/Documents/2021fall/NASA-GEOS/misc.ipynb#ch0000001?line=4'>5</a>\u001b[0m path \u001b[39m=\u001b[39m os\u001b[39m.\u001b[39mpath\u001b[39m.\u001b[39mjoin(\u001b[39mdir\u001b[39m, fname)\n\u001b[1;32m      <a href='vscode-notebook-cell:/Users/alexmallen/Documents/2021fall/NASA-GEOS/misc.ipynb#ch0000001?line=5'>6</a>\u001b[0m \u001b[39mprint\u001b[39m(path)\n\u001b[0;32m----> <a href='vscode-notebook-cell:/Users/alexmallen/Documents/2021fall/NASA-GEOS/misc.ipynb#ch0000001?line=6'>7</a>\u001b[0m obs \u001b[39m=\u001b[39m read_obs_csv(path)\n\u001b[1;32m      <a href='vscode-notebook-cell:/Users/alexmallen/Documents/2021fall/NASA-GEOS/misc.ipynb#ch0000001?line=7'>8</a>\u001b[0m \u001b[39mif\u001b[39;00m \u001b[39mlen\u001b[39m(obs) \u001b[39m>\u001b[39m \u001b[39m0\u001b[39m:\n\u001b[1;32m      <a href='vscode-notebook-cell:/Users/alexmallen/Documents/2021fall/NASA-GEOS/misc.ipynb#ch0000001?line=8'>9</a>\u001b[0m     deltats\u001b[39m.\u001b[39mappend(obs\u001b[39m.\u001b[39mt[\u001b[39m1\u001b[39m:]\u001b[39m.\u001b[39mvalues \u001b[39m-\u001b[39m obs\u001b[39m.\u001b[39mt[:\u001b[39m-\u001b[39m\u001b[39m1\u001b[39m]\u001b[39m.\u001b[39mvalues)\n",
      "\u001b[1;32m/Users/alexmallen/Documents/2021fall/NASA-GEOS/misc.ipynb Cell 2'\u001b[0m in \u001b[0;36mread_obs_csv\u001b[0;34m(fname)\u001b[0m\n\u001b[1;32m      <a href='vscode-notebook-cell:/Users/alexmallen/Documents/2021fall/NASA-GEOS/misc.ipynb#ch0000002?line=3'>4</a>\u001b[0m \u001b[39mdef\u001b[39;00m \u001b[39mread_obs_csv\u001b[39m(fname):\n\u001b[0;32m----> <a href='vscode-notebook-cell:/Users/alexmallen/Documents/2021fall/NASA-GEOS/misc.ipynb#ch0000002?line=4'>5</a>\u001b[0m     obs \u001b[39m=\u001b[39m pd\u001b[39m.\u001b[39;49mread_csv(fname, parse_dates\u001b[39m=\u001b[39;49m[\u001b[39m'\u001b[39;49m\u001b[39mISO8601\u001b[39;49m\u001b[39m'\u001b[39;49m,], date_parser\u001b[39m=\u001b[39;49m\u001b[39mlambda\u001b[39;49;00m x: dt\u001b[39m.\u001b[39;49mdatetime\u001b[39m.\u001b[39;49mstrptime(x, \u001b[39m'\u001b[39;49m\u001b[39m%\u001b[39;49m\u001b[39mY-\u001b[39;49m\u001b[39m%\u001b[39;49m\u001b[39mm-\u001b[39;49m\u001b[39m%d\u001b[39;49;00m\u001b[39mT\u001b[39;49m\u001b[39m%\u001b[39;49m\u001b[39mH:\u001b[39;49m\u001b[39m%\u001b[39;49m\u001b[39mM:\u001b[39;49m\u001b[39m%\u001b[39;49m\u001b[39mSZ\u001b[39;49m\u001b[39m'\u001b[39;49m))\u001b[39m.\u001b[39msort_values(by\u001b[39m=\u001b[39m[\u001b[39m'\u001b[39m\u001b[39mISO8601\u001b[39m\u001b[39m'\u001b[39m])\n\u001b[1;32m      <a href='vscode-notebook-cell:/Users/alexmallen/Documents/2021fall/NASA-GEOS/misc.ipynb#ch0000002?line=5'>6</a>\u001b[0m     obs[\u001b[39m\"\u001b[39m\u001b[39mt\u001b[39m\u001b[39m\"\u001b[39m] \u001b[39m=\u001b[39m [time\u001b[39m.\u001b[39mmktime(obs\u001b[39m.\u001b[39mISO8601\u001b[39m.\u001b[39miloc[i]\u001b[39m.\u001b[39mtimetuple()) \u001b[39mfor\u001b[39;00m i \u001b[39min\u001b[39;00m \u001b[39mrange\u001b[39m(\u001b[39mlen\u001b[39m(obs))]\n\u001b[1;32m      <a href='vscode-notebook-cell:/Users/alexmallen/Documents/2021fall/NASA-GEOS/misc.ipynb#ch0000002?line=6'>7</a>\u001b[0m     t_min \u001b[39m=\u001b[39m obs\u001b[39m.\u001b[39mt\u001b[39m.\u001b[39mmin()\n",
      "File \u001b[0;32m~/Documents/2021fall/NASA-GEOS/venv/lib/python3.10/site-packages/pandas/util/_decorators.py:311\u001b[0m, in \u001b[0;36mdeprecate_nonkeyword_arguments.<locals>.decorate.<locals>.wrapper\u001b[0;34m(*args, **kwargs)\u001b[0m\n\u001b[1;32m    <a href='file:///Users/alexmallen/Documents/2021fall/NASA-GEOS/venv/lib/python3.10/site-packages/pandas/util/_decorators.py?line=304'>305</a>\u001b[0m \u001b[39mif\u001b[39;00m \u001b[39mlen\u001b[39m(args) \u001b[39m>\u001b[39m num_allow_args:\n\u001b[1;32m    <a href='file:///Users/alexmallen/Documents/2021fall/NASA-GEOS/venv/lib/python3.10/site-packages/pandas/util/_decorators.py?line=305'>306</a>\u001b[0m     warnings\u001b[39m.\u001b[39mwarn(\n\u001b[1;32m    <a href='file:///Users/alexmallen/Documents/2021fall/NASA-GEOS/venv/lib/python3.10/site-packages/pandas/util/_decorators.py?line=306'>307</a>\u001b[0m         msg\u001b[39m.\u001b[39mformat(arguments\u001b[39m=\u001b[39marguments),\n\u001b[1;32m    <a href='file:///Users/alexmallen/Documents/2021fall/NASA-GEOS/venv/lib/python3.10/site-packages/pandas/util/_decorators.py?line=307'>308</a>\u001b[0m         \u001b[39mFutureWarning\u001b[39;00m,\n\u001b[1;32m    <a href='file:///Users/alexmallen/Documents/2021fall/NASA-GEOS/venv/lib/python3.10/site-packages/pandas/util/_decorators.py?line=308'>309</a>\u001b[0m         stacklevel\u001b[39m=\u001b[39mstacklevel,\n\u001b[1;32m    <a href='file:///Users/alexmallen/Documents/2021fall/NASA-GEOS/venv/lib/python3.10/site-packages/pandas/util/_decorators.py?line=309'>310</a>\u001b[0m     )\n\u001b[0;32m--> <a href='file:///Users/alexmallen/Documents/2021fall/NASA-GEOS/venv/lib/python3.10/site-packages/pandas/util/_decorators.py?line=310'>311</a>\u001b[0m \u001b[39mreturn\u001b[39;00m func(\u001b[39m*\u001b[39;49margs, \u001b[39m*\u001b[39;49m\u001b[39m*\u001b[39;49mkwargs)\n",
      "File \u001b[0;32m~/Documents/2021fall/NASA-GEOS/venv/lib/python3.10/site-packages/pandas/io/parsers/readers.py:680\u001b[0m, in \u001b[0;36mread_csv\u001b[0;34m(filepath_or_buffer, sep, delimiter, header, names, index_col, usecols, squeeze, prefix, mangle_dupe_cols, dtype, engine, converters, true_values, false_values, skipinitialspace, skiprows, skipfooter, nrows, na_values, keep_default_na, na_filter, verbose, skip_blank_lines, parse_dates, infer_datetime_format, keep_date_col, date_parser, dayfirst, cache_dates, iterator, chunksize, compression, thousands, decimal, lineterminator, quotechar, quoting, doublequote, escapechar, comment, encoding, encoding_errors, dialect, error_bad_lines, warn_bad_lines, on_bad_lines, delim_whitespace, low_memory, memory_map, float_precision, storage_options)\u001b[0m\n\u001b[1;32m    <a href='file:///Users/alexmallen/Documents/2021fall/NASA-GEOS/venv/lib/python3.10/site-packages/pandas/io/parsers/readers.py?line=664'>665</a>\u001b[0m kwds_defaults \u001b[39m=\u001b[39m _refine_defaults_read(\n\u001b[1;32m    <a href='file:///Users/alexmallen/Documents/2021fall/NASA-GEOS/venv/lib/python3.10/site-packages/pandas/io/parsers/readers.py?line=665'>666</a>\u001b[0m     dialect,\n\u001b[1;32m    <a href='file:///Users/alexmallen/Documents/2021fall/NASA-GEOS/venv/lib/python3.10/site-packages/pandas/io/parsers/readers.py?line=666'>667</a>\u001b[0m     delimiter,\n\u001b[0;32m   (...)\u001b[0m\n\u001b[1;32m    <a href='file:///Users/alexmallen/Documents/2021fall/NASA-GEOS/venv/lib/python3.10/site-packages/pandas/io/parsers/readers.py?line=675'>676</a>\u001b[0m     defaults\u001b[39m=\u001b[39m{\u001b[39m\"\u001b[39m\u001b[39mdelimiter\u001b[39m\u001b[39m\"\u001b[39m: \u001b[39m\"\u001b[39m\u001b[39m,\u001b[39m\u001b[39m\"\u001b[39m},\n\u001b[1;32m    <a href='file:///Users/alexmallen/Documents/2021fall/NASA-GEOS/venv/lib/python3.10/site-packages/pandas/io/parsers/readers.py?line=676'>677</a>\u001b[0m )\n\u001b[1;32m    <a href='file:///Users/alexmallen/Documents/2021fall/NASA-GEOS/venv/lib/python3.10/site-packages/pandas/io/parsers/readers.py?line=677'>678</a>\u001b[0m kwds\u001b[39m.\u001b[39mupdate(kwds_defaults)\n\u001b[0;32m--> <a href='file:///Users/alexmallen/Documents/2021fall/NASA-GEOS/venv/lib/python3.10/site-packages/pandas/io/parsers/readers.py?line=679'>680</a>\u001b[0m \u001b[39mreturn\u001b[39;00m _read(filepath_or_buffer, kwds)\n",
      "File \u001b[0;32m~/Documents/2021fall/NASA-GEOS/venv/lib/python3.10/site-packages/pandas/io/parsers/readers.py:581\u001b[0m, in \u001b[0;36m_read\u001b[0;34m(filepath_or_buffer, kwds)\u001b[0m\n\u001b[1;32m    <a href='file:///Users/alexmallen/Documents/2021fall/NASA-GEOS/venv/lib/python3.10/site-packages/pandas/io/parsers/readers.py?line=577'>578</a>\u001b[0m     \u001b[39mreturn\u001b[39;00m parser\n\u001b[1;32m    <a href='file:///Users/alexmallen/Documents/2021fall/NASA-GEOS/venv/lib/python3.10/site-packages/pandas/io/parsers/readers.py?line=579'>580</a>\u001b[0m \u001b[39mwith\u001b[39;00m parser:\n\u001b[0;32m--> <a href='file:///Users/alexmallen/Documents/2021fall/NASA-GEOS/venv/lib/python3.10/site-packages/pandas/io/parsers/readers.py?line=580'>581</a>\u001b[0m     \u001b[39mreturn\u001b[39;00m parser\u001b[39m.\u001b[39;49mread(nrows)\n",
      "File \u001b[0;32m~/Documents/2021fall/NASA-GEOS/venv/lib/python3.10/site-packages/pandas/io/parsers/readers.py:1254\u001b[0m, in \u001b[0;36mTextFileReader.read\u001b[0;34m(self, nrows)\u001b[0m\n\u001b[1;32m   <a href='file:///Users/alexmallen/Documents/2021fall/NASA-GEOS/venv/lib/python3.10/site-packages/pandas/io/parsers/readers.py?line=1251'>1252</a>\u001b[0m nrows \u001b[39m=\u001b[39m validate_integer(\u001b[39m\"\u001b[39m\u001b[39mnrows\u001b[39m\u001b[39m\"\u001b[39m, nrows)\n\u001b[1;32m   <a href='file:///Users/alexmallen/Documents/2021fall/NASA-GEOS/venv/lib/python3.10/site-packages/pandas/io/parsers/readers.py?line=1252'>1253</a>\u001b[0m \u001b[39mtry\u001b[39;00m:\n\u001b[0;32m-> <a href='file:///Users/alexmallen/Documents/2021fall/NASA-GEOS/venv/lib/python3.10/site-packages/pandas/io/parsers/readers.py?line=1253'>1254</a>\u001b[0m     index, columns, col_dict \u001b[39m=\u001b[39m \u001b[39mself\u001b[39;49m\u001b[39m.\u001b[39;49m_engine\u001b[39m.\u001b[39;49mread(nrows)\n\u001b[1;32m   <a href='file:///Users/alexmallen/Documents/2021fall/NASA-GEOS/venv/lib/python3.10/site-packages/pandas/io/parsers/readers.py?line=1254'>1255</a>\u001b[0m \u001b[39mexcept\u001b[39;00m \u001b[39mException\u001b[39;00m:\n\u001b[1;32m   <a href='file:///Users/alexmallen/Documents/2021fall/NASA-GEOS/venv/lib/python3.10/site-packages/pandas/io/parsers/readers.py?line=1255'>1256</a>\u001b[0m     \u001b[39mself\u001b[39m\u001b[39m.\u001b[39mclose()\n",
      "File \u001b[0;32m~/Documents/2021fall/NASA-GEOS/venv/lib/python3.10/site-packages/pandas/io/parsers/c_parser_wrapper.py:310\u001b[0m, in \u001b[0;36mCParserWrapper.read\u001b[0;34m(self, nrows)\u001b[0m\n\u001b[1;32m    <a href='file:///Users/alexmallen/Documents/2021fall/NASA-GEOS/venv/lib/python3.10/site-packages/pandas/io/parsers/c_parser_wrapper.py?line=305'>306</a>\u001b[0m         \u001b[39mself\u001b[39m\u001b[39m.\u001b[39m_check_data_length(names, alldata)\n\u001b[1;32m    <a href='file:///Users/alexmallen/Documents/2021fall/NASA-GEOS/venv/lib/python3.10/site-packages/pandas/io/parsers/c_parser_wrapper.py?line=307'>308</a>\u001b[0m     data \u001b[39m=\u001b[39m {k: v \u001b[39mfor\u001b[39;00m k, (i, v) \u001b[39min\u001b[39;00m \u001b[39mzip\u001b[39m(names, data_tups)}\n\u001b[0;32m--> <a href='file:///Users/alexmallen/Documents/2021fall/NASA-GEOS/venv/lib/python3.10/site-packages/pandas/io/parsers/c_parser_wrapper.py?line=309'>310</a>\u001b[0m     names, date_data \u001b[39m=\u001b[39m \u001b[39mself\u001b[39;49m\u001b[39m.\u001b[39;49m_do_date_conversions(names, data)\n\u001b[1;32m    <a href='file:///Users/alexmallen/Documents/2021fall/NASA-GEOS/venv/lib/python3.10/site-packages/pandas/io/parsers/c_parser_wrapper.py?line=310'>311</a>\u001b[0m     index, names \u001b[39m=\u001b[39m \u001b[39mself\u001b[39m\u001b[39m.\u001b[39m_make_index(date_data, alldata, names)\n\u001b[1;32m    <a href='file:///Users/alexmallen/Documents/2021fall/NASA-GEOS/venv/lib/python3.10/site-packages/pandas/io/parsers/c_parser_wrapper.py?line=312'>313</a>\u001b[0m \u001b[39m# maybe create a mi on the columns\u001b[39;00m\n",
      "File \u001b[0;32m~/Documents/2021fall/NASA-GEOS/venv/lib/python3.10/site-packages/pandas/io/parsers/base_parser.py:820\u001b[0m, in \u001b[0;36mParserBase._do_date_conversions\u001b[0;34m(self, names, data)\u001b[0m\n\u001b[1;32m    <a href='file:///Users/alexmallen/Documents/2021fall/NASA-GEOS/venv/lib/python3.10/site-packages/pandas/io/parsers/base_parser.py?line=811'>812</a>\u001b[0m \u001b[39mdef\u001b[39;00m \u001b[39m_do_date_conversions\u001b[39m(\n\u001b[1;32m    <a href='file:///Users/alexmallen/Documents/2021fall/NASA-GEOS/venv/lib/python3.10/site-packages/pandas/io/parsers/base_parser.py?line=812'>813</a>\u001b[0m     \u001b[39mself\u001b[39m,\n\u001b[1;32m    <a href='file:///Users/alexmallen/Documents/2021fall/NASA-GEOS/venv/lib/python3.10/site-packages/pandas/io/parsers/base_parser.py?line=813'>814</a>\u001b[0m     names: Sequence[Hashable] \u001b[39m|\u001b[39m Index,\n\u001b[1;32m    <a href='file:///Users/alexmallen/Documents/2021fall/NASA-GEOS/venv/lib/python3.10/site-packages/pandas/io/parsers/base_parser.py?line=814'>815</a>\u001b[0m     data: Mapping[Hashable, ArrayLike] \u001b[39m|\u001b[39m DataFrame,\n\u001b[1;32m    <a href='file:///Users/alexmallen/Documents/2021fall/NASA-GEOS/venv/lib/python3.10/site-packages/pandas/io/parsers/base_parser.py?line=815'>816</a>\u001b[0m ) \u001b[39m-\u001b[39m\u001b[39m>\u001b[39m \u001b[39mtuple\u001b[39m[Sequence[Hashable] \u001b[39m|\u001b[39m Index, Mapping[Hashable, ArrayLike] \u001b[39m|\u001b[39m DataFrame]:\n\u001b[1;32m    <a href='file:///Users/alexmallen/Documents/2021fall/NASA-GEOS/venv/lib/python3.10/site-packages/pandas/io/parsers/base_parser.py?line=816'>817</a>\u001b[0m     \u001b[39m# returns data, columns\u001b[39;00m\n\u001b[1;32m    <a href='file:///Users/alexmallen/Documents/2021fall/NASA-GEOS/venv/lib/python3.10/site-packages/pandas/io/parsers/base_parser.py?line=818'>819</a>\u001b[0m     \u001b[39mif\u001b[39;00m \u001b[39mself\u001b[39m\u001b[39m.\u001b[39mparse_dates \u001b[39mis\u001b[39;00m \u001b[39mnot\u001b[39;00m \u001b[39mNone\u001b[39;00m:\n\u001b[0;32m--> <a href='file:///Users/alexmallen/Documents/2021fall/NASA-GEOS/venv/lib/python3.10/site-packages/pandas/io/parsers/base_parser.py?line=819'>820</a>\u001b[0m         data, names \u001b[39m=\u001b[39m _process_date_conversion(\n\u001b[1;32m    <a href='file:///Users/alexmallen/Documents/2021fall/NASA-GEOS/venv/lib/python3.10/site-packages/pandas/io/parsers/base_parser.py?line=820'>821</a>\u001b[0m             data,\n\u001b[1;32m    <a href='file:///Users/alexmallen/Documents/2021fall/NASA-GEOS/venv/lib/python3.10/site-packages/pandas/io/parsers/base_parser.py?line=821'>822</a>\u001b[0m             \u001b[39mself\u001b[39;49m\u001b[39m.\u001b[39;49m_date_conv,\n\u001b[1;32m    <a href='file:///Users/alexmallen/Documents/2021fall/NASA-GEOS/venv/lib/python3.10/site-packages/pandas/io/parsers/base_parser.py?line=822'>823</a>\u001b[0m             \u001b[39mself\u001b[39;49m\u001b[39m.\u001b[39;49mparse_dates,\n\u001b[1;32m    <a href='file:///Users/alexmallen/Documents/2021fall/NASA-GEOS/venv/lib/python3.10/site-packages/pandas/io/parsers/base_parser.py?line=823'>824</a>\u001b[0m             \u001b[39mself\u001b[39;49m\u001b[39m.\u001b[39;49mindex_col,\n\u001b[1;32m    <a href='file:///Users/alexmallen/Documents/2021fall/NASA-GEOS/venv/lib/python3.10/site-packages/pandas/io/parsers/base_parser.py?line=824'>825</a>\u001b[0m             \u001b[39mself\u001b[39;49m\u001b[39m.\u001b[39;49mindex_names,\n\u001b[1;32m    <a href='file:///Users/alexmallen/Documents/2021fall/NASA-GEOS/venv/lib/python3.10/site-packages/pandas/io/parsers/base_parser.py?line=825'>826</a>\u001b[0m             names,\n\u001b[1;32m    <a href='file:///Users/alexmallen/Documents/2021fall/NASA-GEOS/venv/lib/python3.10/site-packages/pandas/io/parsers/base_parser.py?line=826'>827</a>\u001b[0m             keep_date_col\u001b[39m=\u001b[39;49m\u001b[39mself\u001b[39;49m\u001b[39m.\u001b[39;49mkeep_date_col,\n\u001b[1;32m    <a href='file:///Users/alexmallen/Documents/2021fall/NASA-GEOS/venv/lib/python3.10/site-packages/pandas/io/parsers/base_parser.py?line=827'>828</a>\u001b[0m         )\n\u001b[1;32m    <a href='file:///Users/alexmallen/Documents/2021fall/NASA-GEOS/venv/lib/python3.10/site-packages/pandas/io/parsers/base_parser.py?line=829'>830</a>\u001b[0m     \u001b[39mreturn\u001b[39;00m names, data\n",
      "File \u001b[0;32m~/Documents/2021fall/NASA-GEOS/venv/lib/python3.10/site-packages/pandas/io/parsers/base_parser.py:1189\u001b[0m, in \u001b[0;36m_process_date_conversion\u001b[0;34m(data_dict, converter, parse_spec, index_col, index_names, columns, keep_date_col)\u001b[0m\n\u001b[1;32m   <a href='file:///Users/alexmallen/Documents/2021fall/NASA-GEOS/venv/lib/python3.10/site-packages/pandas/io/parsers/base_parser.py?line=1185'>1186</a>\u001b[0m         \u001b[39mcontinue\u001b[39;00m\n\u001b[1;32m   <a href='file:///Users/alexmallen/Documents/2021fall/NASA-GEOS/venv/lib/python3.10/site-packages/pandas/io/parsers/base_parser.py?line=1186'>1187</a>\u001b[0m     \u001b[39m# Pyarrow engine returns Series which we need to convert to\u001b[39;00m\n\u001b[1;32m   <a href='file:///Users/alexmallen/Documents/2021fall/NASA-GEOS/venv/lib/python3.10/site-packages/pandas/io/parsers/base_parser.py?line=1187'>1188</a>\u001b[0m     \u001b[39m# numpy array before converter, its a no-op for other parsers\u001b[39;00m\n\u001b[0;32m-> <a href='file:///Users/alexmallen/Documents/2021fall/NASA-GEOS/venv/lib/python3.10/site-packages/pandas/io/parsers/base_parser.py?line=1188'>1189</a>\u001b[0m     data_dict[colspec] \u001b[39m=\u001b[39m converter(np\u001b[39m.\u001b[39;49masarray(data_dict[colspec]))\n\u001b[1;32m   <a href='file:///Users/alexmallen/Documents/2021fall/NASA-GEOS/venv/lib/python3.10/site-packages/pandas/io/parsers/base_parser.py?line=1189'>1190</a>\u001b[0m \u001b[39melse\u001b[39;00m:\n\u001b[1;32m   <a href='file:///Users/alexmallen/Documents/2021fall/NASA-GEOS/venv/lib/python3.10/site-packages/pandas/io/parsers/base_parser.py?line=1190'>1191</a>\u001b[0m     new_name, col, old_names \u001b[39m=\u001b[39m _try_convert_dates(\n\u001b[1;32m   <a href='file:///Users/alexmallen/Documents/2021fall/NASA-GEOS/venv/lib/python3.10/site-packages/pandas/io/parsers/base_parser.py?line=1191'>1192</a>\u001b[0m         converter, colspec, data_dict, orig_names\n\u001b[1;32m   <a href='file:///Users/alexmallen/Documents/2021fall/NASA-GEOS/venv/lib/python3.10/site-packages/pandas/io/parsers/base_parser.py?line=1192'>1193</a>\u001b[0m     )\n",
      "File \u001b[0;32m~/Documents/2021fall/NASA-GEOS/venv/lib/python3.10/site-packages/pandas/io/parsers/base_parser.py:1094\u001b[0m, in \u001b[0;36m_make_date_converter.<locals>.converter\u001b[0;34m(*date_cols)\u001b[0m\n\u001b[1;32m   <a href='file:///Users/alexmallen/Documents/2021fall/NASA-GEOS/venv/lib/python3.10/site-packages/pandas/io/parsers/base_parser.py?line=1090'>1091</a>\u001b[0m \u001b[39mexcept\u001b[39;00m \u001b[39mException\u001b[39;00m:\n\u001b[1;32m   <a href='file:///Users/alexmallen/Documents/2021fall/NASA-GEOS/venv/lib/python3.10/site-packages/pandas/io/parsers/base_parser.py?line=1091'>1092</a>\u001b[0m     \u001b[39mtry\u001b[39;00m:\n\u001b[1;32m   <a href='file:///Users/alexmallen/Documents/2021fall/NASA-GEOS/venv/lib/python3.10/site-packages/pandas/io/parsers/base_parser.py?line=1092'>1093</a>\u001b[0m         \u001b[39mreturn\u001b[39;00m tools\u001b[39m.\u001b[39mto_datetime(\n\u001b[0;32m-> <a href='file:///Users/alexmallen/Documents/2021fall/NASA-GEOS/venv/lib/python3.10/site-packages/pandas/io/parsers/base_parser.py?line=1093'>1094</a>\u001b[0m             parsing\u001b[39m.\u001b[39;49mtry_parse_dates(\n\u001b[1;32m   <a href='file:///Users/alexmallen/Documents/2021fall/NASA-GEOS/venv/lib/python3.10/site-packages/pandas/io/parsers/base_parser.py?line=1094'>1095</a>\u001b[0m                 parsing\u001b[39m.\u001b[39;49mconcat_date_cols(date_cols),\n\u001b[1;32m   <a href='file:///Users/alexmallen/Documents/2021fall/NASA-GEOS/venv/lib/python3.10/site-packages/pandas/io/parsers/base_parser.py?line=1095'>1096</a>\u001b[0m                 parser\u001b[39m=\u001b[39;49mdate_parser,\n\u001b[1;32m   <a href='file:///Users/alexmallen/Documents/2021fall/NASA-GEOS/venv/lib/python3.10/site-packages/pandas/io/parsers/base_parser.py?line=1096'>1097</a>\u001b[0m                 dayfirst\u001b[39m=\u001b[39;49mdayfirst,\n\u001b[1;32m   <a href='file:///Users/alexmallen/Documents/2021fall/NASA-GEOS/venv/lib/python3.10/site-packages/pandas/io/parsers/base_parser.py?line=1097'>1098</a>\u001b[0m             ),\n\u001b[1;32m   <a href='file:///Users/alexmallen/Documents/2021fall/NASA-GEOS/venv/lib/python3.10/site-packages/pandas/io/parsers/base_parser.py?line=1098'>1099</a>\u001b[0m             errors\u001b[39m=\u001b[39m\u001b[39m\"\u001b[39m\u001b[39mignore\u001b[39m\u001b[39m\"\u001b[39m,\n\u001b[1;32m   <a href='file:///Users/alexmallen/Documents/2021fall/NASA-GEOS/venv/lib/python3.10/site-packages/pandas/io/parsers/base_parser.py?line=1099'>1100</a>\u001b[0m         )\n\u001b[1;32m   <a href='file:///Users/alexmallen/Documents/2021fall/NASA-GEOS/venv/lib/python3.10/site-packages/pandas/io/parsers/base_parser.py?line=1100'>1101</a>\u001b[0m     \u001b[39mexcept\u001b[39;00m \u001b[39mException\u001b[39;00m:\n\u001b[1;32m   <a href='file:///Users/alexmallen/Documents/2021fall/NASA-GEOS/venv/lib/python3.10/site-packages/pandas/io/parsers/base_parser.py?line=1101'>1102</a>\u001b[0m         \u001b[39mreturn\u001b[39;00m generic_parser(date_parser, \u001b[39m*\u001b[39mdate_cols)\n",
      "File \u001b[0;32mpandas/_libs/tslibs/parsing.pyx:656\u001b[0m, in \u001b[0;36mpandas._libs.tslibs.parsing.try_parse_dates\u001b[0;34m()\u001b[0m\n",
      "\u001b[1;32m/Users/alexmallen/Documents/2021fall/NASA-GEOS/misc.ipynb Cell 2'\u001b[0m in \u001b[0;36mread_obs_csv.<locals>.<lambda>\u001b[0;34m(x)\u001b[0m\n\u001b[1;32m      <a href='vscode-notebook-cell:/Users/alexmallen/Documents/2021fall/NASA-GEOS/misc.ipynb#ch0000002?line=3'>4</a>\u001b[0m \u001b[39mdef\u001b[39;00m \u001b[39mread_obs_csv\u001b[39m(fname):\n\u001b[0;32m----> <a href='vscode-notebook-cell:/Users/alexmallen/Documents/2021fall/NASA-GEOS/misc.ipynb#ch0000002?line=4'>5</a>\u001b[0m     obs \u001b[39m=\u001b[39m pd\u001b[39m.\u001b[39mread_csv(fname, parse_dates\u001b[39m=\u001b[39m[\u001b[39m'\u001b[39m\u001b[39mISO8601\u001b[39m\u001b[39m'\u001b[39m,], date_parser\u001b[39m=\u001b[39m\u001b[39mlambda\u001b[39;00m x: dt\u001b[39m.\u001b[39;49mdatetime\u001b[39m.\u001b[39;49mstrptime(x, \u001b[39m'\u001b[39;49m\u001b[39m%\u001b[39;49m\u001b[39mY-\u001b[39;49m\u001b[39m%\u001b[39;49m\u001b[39mm-\u001b[39;49m\u001b[39m%d\u001b[39;49;00m\u001b[39mT\u001b[39;49m\u001b[39m%\u001b[39;49m\u001b[39mH:\u001b[39;49m\u001b[39m%\u001b[39;49m\u001b[39mM:\u001b[39;49m\u001b[39m%\u001b[39;49m\u001b[39mSZ\u001b[39;49m\u001b[39m'\u001b[39;49m))\u001b[39m.\u001b[39msort_values(by\u001b[39m=\u001b[39m[\u001b[39m'\u001b[39m\u001b[39mISO8601\u001b[39m\u001b[39m'\u001b[39m])\n\u001b[1;32m      <a href='vscode-notebook-cell:/Users/alexmallen/Documents/2021fall/NASA-GEOS/misc.ipynb#ch0000002?line=5'>6</a>\u001b[0m     obs[\u001b[39m\"\u001b[39m\u001b[39mt\u001b[39m\u001b[39m\"\u001b[39m] \u001b[39m=\u001b[39m [time\u001b[39m.\u001b[39mmktime(obs\u001b[39m.\u001b[39mISO8601\u001b[39m.\u001b[39miloc[i]\u001b[39m.\u001b[39mtimetuple()) \u001b[39mfor\u001b[39;00m i \u001b[39min\u001b[39;00m \u001b[39mrange\u001b[39m(\u001b[39mlen\u001b[39m(obs))]\n\u001b[1;32m      <a href='vscode-notebook-cell:/Users/alexmallen/Documents/2021fall/NASA-GEOS/misc.ipynb#ch0000002?line=6'>7</a>\u001b[0m     t_min \u001b[39m=\u001b[39m obs\u001b[39m.\u001b[39mt\u001b[39m.\u001b[39mmin()\n",
      "File \u001b[0;32m/Library/Frameworks/Python.framework/Versions/3.10/lib/python3.10/_strptime.py:568\u001b[0m, in \u001b[0;36m_strptime_datetime\u001b[0;34m(cls, data_string, format)\u001b[0m\n\u001b[1;32m    <a href='file:///Library/Frameworks/Python.framework/Versions/3.10/lib/python3.10/_strptime.py?line=564'>565</a>\u001b[0m \u001b[39mdef\u001b[39;00m \u001b[39m_strptime_datetime\u001b[39m(\u001b[39mcls\u001b[39m, data_string, \u001b[39mformat\u001b[39m\u001b[39m=\u001b[39m\u001b[39m\"\u001b[39m\u001b[39m%a\u001b[39;00m\u001b[39m \u001b[39m\u001b[39m%\u001b[39m\u001b[39mb \u001b[39m\u001b[39m%d\u001b[39;00m\u001b[39m \u001b[39m\u001b[39m%\u001b[39m\u001b[39mH:\u001b[39m\u001b[39m%\u001b[39m\u001b[39mM:\u001b[39m\u001b[39m%\u001b[39m\u001b[39mS \u001b[39m\u001b[39m%\u001b[39m\u001b[39mY\u001b[39m\u001b[39m\"\u001b[39m):\n\u001b[1;32m    <a href='file:///Library/Frameworks/Python.framework/Versions/3.10/lib/python3.10/_strptime.py?line=565'>566</a>\u001b[0m     \u001b[39m\"\"\"Return a class cls instance based on the input string and the\u001b[39;00m\n\u001b[1;32m    <a href='file:///Library/Frameworks/Python.framework/Versions/3.10/lib/python3.10/_strptime.py?line=566'>567</a>\u001b[0m \u001b[39m    format string.\"\"\"\u001b[39;00m\n\u001b[0;32m--> <a href='file:///Library/Frameworks/Python.framework/Versions/3.10/lib/python3.10/_strptime.py?line=567'>568</a>\u001b[0m     tt, fraction, gmtoff_fraction \u001b[39m=\u001b[39m _strptime(data_string, \u001b[39mformat\u001b[39;49m)\n\u001b[1;32m    <a href='file:///Library/Frameworks/Python.framework/Versions/3.10/lib/python3.10/_strptime.py?line=568'>569</a>\u001b[0m     tzname, gmtoff \u001b[39m=\u001b[39m tt[\u001b[39m-\u001b[39m\u001b[39m2\u001b[39m:]\n\u001b[1;32m    <a href='file:///Library/Frameworks/Python.framework/Versions/3.10/lib/python3.10/_strptime.py?line=569'>570</a>\u001b[0m     args \u001b[39m=\u001b[39m tt[:\u001b[39m6\u001b[39m] \u001b[39m+\u001b[39m (fraction,)\n",
      "File \u001b[0;32m/Library/Frameworks/Python.framework/Versions/3.10/lib/python3.10/_strptime.py:322\u001b[0m, in \u001b[0;36m_strptime\u001b[0;34m(data_string, format)\u001b[0m\n\u001b[1;32m    <a href='file:///Library/Frameworks/Python.framework/Versions/3.10/lib/python3.10/_strptime.py?line=319'>320</a>\u001b[0m \u001b[39mwith\u001b[39;00m _cache_lock:\n\u001b[1;32m    <a href='file:///Library/Frameworks/Python.framework/Versions/3.10/lib/python3.10/_strptime.py?line=320'>321</a>\u001b[0m     locale_time \u001b[39m=\u001b[39m _TimeRE_cache\u001b[39m.\u001b[39mlocale_time\n\u001b[0;32m--> <a href='file:///Library/Frameworks/Python.framework/Versions/3.10/lib/python3.10/_strptime.py?line=321'>322</a>\u001b[0m     \u001b[39mif\u001b[39;00m (_getlang() \u001b[39m!=\u001b[39m locale_time\u001b[39m.\u001b[39mlang \u001b[39mor\u001b[39;00m\n\u001b[1;32m    <a href='file:///Library/Frameworks/Python.framework/Versions/3.10/lib/python3.10/_strptime.py?line=322'>323</a>\u001b[0m         time\u001b[39m.\u001b[39mtzname \u001b[39m!=\u001b[39m locale_time\u001b[39m.\u001b[39mtzname \u001b[39mor\u001b[39;00m\n\u001b[1;32m    <a href='file:///Library/Frameworks/Python.framework/Versions/3.10/lib/python3.10/_strptime.py?line=323'>324</a>\u001b[0m         time\u001b[39m.\u001b[39mdaylight \u001b[39m!=\u001b[39m locale_time\u001b[39m.\u001b[39mdaylight):\n\u001b[1;32m    <a href='file:///Library/Frameworks/Python.framework/Versions/3.10/lib/python3.10/_strptime.py?line=324'>325</a>\u001b[0m         _TimeRE_cache \u001b[39m=\u001b[39m TimeRE()\n\u001b[1;32m    <a href='file:///Library/Frameworks/Python.framework/Versions/3.10/lib/python3.10/_strptime.py?line=325'>326</a>\u001b[0m         _regex_cache\u001b[39m.\u001b[39mclear()\n",
      "File \u001b[0;32m/Library/Frameworks/Python.framework/Versions/3.10/lib/python3.10/_strptime.py:28\u001b[0m, in \u001b[0;36m_getlang\u001b[0;34m()\u001b[0m\n\u001b[1;32m     <a href='file:///Library/Frameworks/Python.framework/Versions/3.10/lib/python3.10/_strptime.py?line=25'>26</a>\u001b[0m \u001b[39mdef\u001b[39;00m \u001b[39m_getlang\u001b[39m():\n\u001b[1;32m     <a href='file:///Library/Frameworks/Python.framework/Versions/3.10/lib/python3.10/_strptime.py?line=26'>27</a>\u001b[0m     \u001b[39m# Figure out what the current language is set to.\u001b[39;00m\n\u001b[0;32m---> <a href='file:///Library/Frameworks/Python.framework/Versions/3.10/lib/python3.10/_strptime.py?line=27'>28</a>\u001b[0m     \u001b[39mreturn\u001b[39;00m locale\u001b[39m.\u001b[39;49mgetlocale(locale\u001b[39m.\u001b[39;49mLC_TIME)\n",
      "File \u001b[0;32m/Library/Frameworks/Python.framework/Versions/3.10/lib/python3.10/locale.py:600\u001b[0m, in \u001b[0;36mgetlocale\u001b[0;34m(category)\u001b[0m\n\u001b[1;32m    <a href='file:///Library/Frameworks/Python.framework/Versions/3.10/lib/python3.10/locale.py?line=586'>587</a>\u001b[0m \u001b[39mdef\u001b[39;00m \u001b[39mgetlocale\u001b[39m(category\u001b[39m=\u001b[39mLC_CTYPE):\n\u001b[1;32m    <a href='file:///Library/Frameworks/Python.framework/Versions/3.10/lib/python3.10/locale.py?line=588'>589</a>\u001b[0m     \u001b[39m\"\"\" Returns the current setting for the given locale category as\u001b[39;00m\n\u001b[1;32m    <a href='file:///Library/Frameworks/Python.framework/Versions/3.10/lib/python3.10/locale.py?line=589'>590</a>\u001b[0m \u001b[39m        tuple (language code, encoding).\u001b[39;00m\n\u001b[1;32m    <a href='file:///Library/Frameworks/Python.framework/Versions/3.10/lib/python3.10/locale.py?line=590'>591</a>\u001b[0m \n\u001b[0;32m   (...)\u001b[0m\n\u001b[1;32m    <a href='file:///Library/Frameworks/Python.framework/Versions/3.10/lib/python3.10/locale.py?line=597'>598</a>\u001b[0m \n\u001b[1;32m    <a href='file:///Library/Frameworks/Python.framework/Versions/3.10/lib/python3.10/locale.py?line=598'>599</a>\u001b[0m \u001b[39m    \"\"\"\u001b[39;00m\n\u001b[0;32m--> <a href='file:///Library/Frameworks/Python.framework/Versions/3.10/lib/python3.10/locale.py?line=599'>600</a>\u001b[0m     localename \u001b[39m=\u001b[39m _setlocale(category)\n\u001b[1;32m    <a href='file:///Library/Frameworks/Python.framework/Versions/3.10/lib/python3.10/locale.py?line=600'>601</a>\u001b[0m     \u001b[39mif\u001b[39;00m category \u001b[39m==\u001b[39m LC_ALL \u001b[39mand\u001b[39;00m \u001b[39m'\u001b[39m\u001b[39m;\u001b[39m\u001b[39m'\u001b[39m \u001b[39min\u001b[39;00m localename:\n\u001b[1;32m    <a href='file:///Library/Frameworks/Python.framework/Versions/3.10/lib/python3.10/locale.py?line=601'>602</a>\u001b[0m         \u001b[39mraise\u001b[39;00m \u001b[39mTypeError\u001b[39;00m(\u001b[39m'\u001b[39m\u001b[39mcategory LC_ALL is not supported\u001b[39m\u001b[39m'\u001b[39m)\n",
      "\u001b[0;31mKeyboardInterrupt\u001b[0m: "
     ]
    }
   ],
   "source": [
    "import os\n",
    "dir = \"stations\"\n",
    "deltats = []\n",
    "for fname in os.listdir(dir):\n",
    "    path = os.path.join(dir, fname)\n",
    "    print(path)\n",
    "    obs = read_obs_csv(path)\n",
    "    if len(obs) > 0:\n",
    "        deltats.append(obs.t[1:].values - obs.t[:-1].values)\n",
    "        deltat = deltats[-1][deltats[-1] >= 3600]\n",
    "        print(np.nanmin(deltat), np.sum(deltat == 3600) / len(deltat))\n"
   ]
  },
  {
   "cell_type": "code",
   "execution_count": 9,
   "metadata": {},
   "outputs": [
    {
     "data": {
      "text/html": [
       "<div>\n",
       "<style scoped>\n",
       "    .dataframe tbody tr th:only-of-type {\n",
       "        vertical-align: middle;\n",
       "    }\n",
       "\n",
       "    .dataframe tbody tr th {\n",
       "        vertical-align: top;\n",
       "    }\n",
       "\n",
       "    .dataframe thead th {\n",
       "        text-align: right;\n",
       "    }\n",
       "</style>\n",
       "<table border=\"1\" class=\"dataframe\">\n",
       "  <thead>\n",
       "    <tr style=\"text-align: right;\">\n",
       "      <th></th>\n",
       "      <th>ISO8601</th>\n",
       "      <th>original_station_name</th>\n",
       "      <th>lat</th>\n",
       "      <th>lon</th>\n",
       "      <th>obstype</th>\n",
       "      <th>conc_obs</th>\n",
       "      <th>conc_obs.1</th>\n",
       "      <th>conc_unit</th>\n",
       "      <th>t</th>\n",
       "    </tr>\n",
       "  </thead>\n",
       "  <tbody>\n",
       "  </tbody>\n",
       "</table>\n",
       "</div>"
      ],
      "text/plain": [
       "Empty DataFrame\n",
       "Columns: [ISO8601, original_station_name, lat, lon, obstype, conc_obs, conc_obs.1, conc_unit, t]\n",
       "Index: []"
      ]
     },
     "execution_count": 9,
     "metadata": {},
     "output_type": "execute_result"
    }
   ],
   "source": []
  },
  {
   "cell_type": "code",
   "execution_count": 15,
   "metadata": {},
   "outputs": [
    {
     "data": {
      "text/plain": [
       "3           10800.0\n",
       "8           14400.0\n",
       "10          18000.0\n",
       "14          21600.0\n",
       "17          25200.0\n",
       "            ...    \n",
       "49956    69642000.0\n",
       "49958    69645600.0\n",
       "49961    69649200.0\n",
       "49964    69652800.0\n",
       "49967    69656400.0\n",
       "Name: t, Length: 16589, dtype: float64"
      ]
     },
     "execution_count": 15,
     "metadata": {},
     "output_type": "execute_result"
    }
   ],
   "source": [
    "obs.t[1:]"
   ]
  },
  {
   "cell_type": "code",
   "execution_count": 37,
   "metadata": {},
   "outputs": [
    {
     "data": {
      "text/plain": [
       "(0.0, 300000.0)"
      ]
     },
     "execution_count": 37,
     "metadata": {},
     "output_type": "execute_result"
    },
    {
     "data": {
      "image/png": "[encoded data removed]",
      "text/plain": [
       "<Figure size 432x288 with 1 Axes>"
      ]
     },
     "metadata": {
      "needs_background": "light"
     },
     "output_type": "display_data"
    }
   ],
   "source": [
    "import matplotlib.pyplot as plt\n",
    "plt.scatter(obs.t, np.ones(len(obs.t)), s=0.5)\n",
    "l = [0, 300000]\n",
    "plt.xlim(l)\n",
    "# plt.ylim(l)"
   ]
  },
  {
   "cell_type": "code",
   "execution_count": 68,
   "metadata": {},
   "outputs": [
    {
     "data": {
      "text/plain": [
       "Text(0, 0.5, 'time until next observation')"
      ]
     },
     "execution_count": 68,
     "metadata": {},
     "output_type": "execute_result"
    },
    {
     "data": {
      "image/png": "[encoded data removed]",
      "text/plain": [
       "<Figure size 432x288 with 1 Axes>"
      ]
     },
     "metadata": {
      "needs_background": "light"
     },
     "output_type": "display_data"
    }
   ],
   "source": [
    "i = 8\n",
    "plt.plot(np.linspace(0, 1, len(deltats[i])), deltats[i])\n",
    "plt.ylim([-1000, 100_000])\n",
    "plt.xlabel(\"observation\")\n",
    "plt.ylabel(\"time until next observation\")"
   ]
  },
  {
   "cell_type": "code",
   "execution_count": null,
   "metadata": {},
   "outputs": [],
   "source": []
  }
 ],
 "metadata": {
  "interpreter": {
   "hash": "268886bf53b46c7c8da095f9817150a082264fd7a3d3273094d11ff2d3fbd287"
  },
  "kernelspec": {
   "display_name": "Python 3.10.3 ('venv': venv)",
   "language": "python",
   "name": "python3"
  },
  "language_info": {
   "codemirror_mode": {
    "name": "ipython",
    "version": 3
   },
   "file_extension": ".py",
   "mimetype": "text/x-python",
   "name": "python",
   "nbconvert_exporter": "python",
   "pygments_lexer": "ipython3",
   "version": "3.10.3"
  },
  "orig_nbformat": 4
 },
 "nbformat": 4,
 "nbformat_minor": 2
}
